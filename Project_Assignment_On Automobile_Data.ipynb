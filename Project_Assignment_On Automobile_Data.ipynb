{
 "cells": [
  {
   "cell_type": "markdown",
   "metadata": {},
   "source": [
    "# Project_On \n",
    "# Automobile_Data Assignment"
   ]
  },
  {
   "cell_type": "markdown",
   "metadata": {},
   "source": [
    "### Aim Of The Project:\n",
    "For the Automobile_Data given for you, analyse this data to get the following details:\n",
    "#### Most expensive car company name, details of all Toyota cars, total cars per company\n",
    "#### The car of each company which costs highest among other cars, and the average mileage providing car company name\n",
    "#### All companies producing the cars with 'num-of-cylinders'is equal to'six'\n",
    "#### All comapnies details which are producing the cars with 'average-mileage' greater than or equal to 35 and number of cylinders equal to four. "
   ]
  },
  {
   "cell_type": "code",
   "execution_count": null,
   "metadata": {},
   "outputs": [],
   "source": []
  }
 ],
 "metadata": {
  "kernelspec": {
   "display_name": "Python 3",
   "language": "python",
   "name": "python3"
  },
  "language_info": {
   "codemirror_mode": {
    "name": "ipython",
    "version": 3
   },
   "file_extension": ".py",
   "mimetype": "text/x-python",
   "name": "python",
   "nbconvert_exporter": "python",
   "pygments_lexer": "ipython3",
   "version": "3.7.4"
  }
 },
 "nbformat": 4,
 "nbformat_minor": 2
}
